{
  "cells": [
    {
      "cell_type": "markdown",
      "metadata": {
        "id": "view-in-github",
        "colab_type": "text"
      },
      "source": [
        "<a href=\"https://colab.research.google.com/github/albinachirkova/Machine-learning-and-CV/blob/main/Python_Bootcamp.ipynb\" target=\"_parent\"><img src=\"https://colab.research.google.com/assets/colab-badge.svg\" alt=\"Open In Colab\"/></a>"
      ]
    },
    {
      "cell_type": "markdown",
      "metadata": {
        "id": "FEEZ9oV5RhAB"
      },
      "source": [
        "# EECS C106A Python Bootcamp\n",
        "### EECS C106A: Introduction to Robotics, Fall 2023"
      ]
    },
    {
      "cell_type": "markdown",
      "metadata": {
        "id": "mC8Jf_nCRhAC"
      },
      "source": [
        "# Introduction\n",
        "\n",
        "We will be using the Python programming language for lab and homework assignments in EECS/BioE/MechE C106A/206A. Some homework assignments will entail matrix calculations where Python will come in handy, but you are welcome to use something like Matlab instead. This notebook is meant to be a mini bootcamp on Python for students who have had experience programming in another language already (e.g. Matlab) or need a quick refresher on Python. We will be using a few popular libraries (numpy, scipy) that are very useful. If you have experience with Matlab but not Python, we recommend checking out the [numpy for Matlab users guide](https://docs.scipy.org/doc/numpy/user/numpy-for-matlab-users.html)."
      ]
    },
    {
      "cell_type": "markdown",
      "metadata": {
        "id": "6gGMLat1RhAC"
      },
      "source": [
        "# Table of Contents\n",
        "* [IPython Basics](#IPython-Basics)\n",
        "* [Python Data Types](#Data-Types)\n",
        "* [Python Functions](#Functions)"
      ]
    },
    {
      "cell_type": "markdown",
      "metadata": {
        "id": "g2SIdpdfRhAC"
      },
      "source": [
        "# IPython Basics\n",
        "\n",
        "For those who have never used IPython, it is a command shell for interactive Python programming. You can imagine it as allowing you to run blocks of Python code that you would execute in a single python script (python [script_name].py) in the terminal. Benefits of using IPython include easier visualization and debugging. The purpose of this bootcamp in IPython is to give you an idea of basic Python syntax and semantics. For labs you are still expected to write and execute actual Python scripts to work with ROS."
      ]
    },
    {
      "cell_type": "markdown",
      "metadata": {
        "id": "0Ub6oG2eRhAD"
      },
      "source": [
        "### Executing Cells\n",
        "\n",
        "ipython notebooks are constituted of cells, that each have text, code, or html scripts. To run a cell, click on the cell and press Shift+Enter or the run button on the toolbar. Run the cell below, you should expect an output of 6:"
      ]
    },
    {
      "cell_type": "code",
      "execution_count": null,
      "metadata": {
        "id": "2YyyAlxjRhAD"
      },
      "outputs": [],
      "source": [
        "1+2+3"
      ]
    },
    {
      "cell_type": "markdown",
      "metadata": {
        "id": "T0IaOesPRhAD"
      },
      "source": [
        "### Stopping or Restarting Kernel\n",
        "\n",
        "To debug, or terminate a process, you can interupt the kernel by clicking Kernel/interrupt on the toolbar. If interuppting doesn't work, or you would like to restart all the processes in the notebook, click Kernel/restart. Try interrupting the following block:"
      ]
    },
    {
      "cell_type": "code",
      "execution_count": null,
      "metadata": {
        "id": "W4QhWRwdRhAE"
      },
      "outputs": [],
      "source": [
        "import time\n",
        "\n",
        "while True:\n",
        "    print(\"bug\")\n",
        "    time.sleep(1.5)\n",
        ""
      ]
    },
    {
      "cell_type": "markdown",
      "metadata": {
        "id": "qn5tKTtQRhAE"
      },
      "source": [
        "### Import a library\n",
        "\n",
        "To import a certain library `x`, just type `import x`\n",
        "Calling function `y` from that library is simply `x.y`\n",
        "To give the library a different name (e.g. abbreviation), type `import x as z`"
      ]
    },
    {
      "cell_type": "code",
      "execution_count": null,
      "metadata": {
        "id": "5xUMmaFwRhAE",
        "outputId": "e5b44c87-e880-41c9-b5f4-e8d1ee135dd2"
      },
      "outputs": [
        {
          "data": {
            "text/plain": [
              "7"
            ]
          },
          "execution_count": 1,
          "metadata": {},
          "output_type": "execute_result"
        }
      ],
      "source": [
        "import numpy as np\n",
        "np.add(3, 4)"
      ]
    },
    {
      "cell_type": "markdown",
      "metadata": {
        "id": "G1jfdanWRhAE"
      },
      "source": [
        "# Python"
      ]
    },
    {
      "cell_type": "markdown",
      "metadata": {
        "id": "3tzLLiA1RhAE"
      },
      "source": [
        "## Data Types"
      ]
    },
    {
      "cell_type": "markdown",
      "metadata": {
        "id": "DRyZ9ZEQRhAE"
      },
      "source": [
        "### Integers and Floats\n",
        "\n",
        "In Python2, integer division returns the floor. In Python3, there is no floor unless you specify using double slahes. The differences between Python2 and Python3 you can [check out](https://wiki.python.org/moin/Python2orPython3), but we will be using Python2 in this class."
      ]
    },
    {
      "cell_type": "code",
      "execution_count": null,
      "metadata": {
        "id": "j_TnFWdCRhAE",
        "outputId": "8054cd2b-e0fb-4d74-d8fd-a9258fccb04e"
      },
      "outputs": [
        {
          "data": {
            "text/plain": [
              "1.25"
            ]
          },
          "execution_count": 2,
          "metadata": {},
          "output_type": "execute_result"
        }
      ],
      "source": [
        "5 / 4"
      ]
    },
    {
      "cell_type": "code",
      "execution_count": null,
      "metadata": {
        "id": "EmQnB9PmRhAF",
        "outputId": "224e91a7-e643-4f0b-e963-62276015f94f"
      },
      "outputs": [
        {
          "data": {
            "text/plain": [
              "1.25"
            ]
          },
          "execution_count": 3,
          "metadata": {},
          "output_type": "execute_result"
        }
      ],
      "source": [
        "5.0 / 4"
      ]
    },
    {
      "cell_type": "markdown",
      "metadata": {
        "id": "5LW2avi-RhAF"
      },
      "source": [
        "### Booleans\n",
        "\n",
        "Python implements all usual operators for Boolean logic. English, though, is used rather than symbols (no &, ||, etc.). Pay attention to the following syntax, try to guess what the output for each print statement should be before running the cell."
      ]
    },
    {
      "cell_type": "code",
      "execution_count": null,
      "metadata": {
        "id": "wH3Dee58RhAF",
        "outputId": "91197da3-0241-4be7-e6b5-ba370e795e23"
      },
      "outputs": [
        {
          "name": "stdout",
          "output_type": "stream",
          "text": [
            "True\n",
            "True\n",
            "True\n",
            "True\n",
            "False\n"
          ]
        },
        {
          "name": "stderr",
          "output_type": "stream",
          "text": [
            "<>:8: SyntaxWarning: \"is not\" with a literal. Did you mean \"!=\"?\n",
            "<>:8: SyntaxWarning: \"is not\" with a literal. Did you mean \"!=\"?\n",
            "C:\\Users\\abato\\AppData\\Local\\Temp\\ipykernel_31364\\2347410878.py:8: SyntaxWarning: \"is not\" with a literal. Did you mean \"!=\"?\n",
            "  print(t is not 1)\n"
          ]
        }
      ],
      "source": [
        "print(0 == False)\n",
        "\n",
        "t = True\n",
        "print(1 == t)\n",
        "\n",
        "print(0 != t)\n",
        "\n",
        "print(t is not 1)\n",
        "\n",
        "if t is True:\n",
        "    print(0 != 0)"
      ]
    },
    {
      "cell_type": "markdown",
      "metadata": {
        "id": "pnH2cbSURhAF"
      },
      "source": [
        "### Strings\n",
        "\n",
        "Strings are supported very well. To concatenate strings we can do the following:"
      ]
    },
    {
      "cell_type": "code",
      "execution_count": null,
      "metadata": {
        "id": "hcXRuSmxRhAF",
        "outputId": "9bef24f9-fd56-4219-f3ee-cc5c80da780f"
      },
      "outputs": [
        {
          "name": "stdout",
          "output_type": "stream",
          "text": [
            "hello robot1\n"
          ]
        }
      ],
      "source": [
        "hello = 'hello'\n",
        "robot = 'robot'\n",
        "\n",
        "print(hello + ' ' + robot + str(1))"
      ]
    },
    {
      "cell_type": "markdown",
      "metadata": {
        "id": "EMA0pzmnRhAF"
      },
      "source": [
        "To find the length of a string use `len(...)`"
      ]
    },
    {
      "cell_type": "code",
      "execution_count": null,
      "metadata": {
        "id": "3iu1IWRWRhAF",
        "outputId": "f8fe8c87-8a06-43fe-baa4-c99810070c78"
      },
      "outputs": [
        {
          "name": "stdout",
          "output_type": "stream",
          "text": [
            "10\n"
          ]
        }
      ],
      "source": [
        "print(len(hello + robot))"
      ]
    },
    {
      "cell_type": "markdown",
      "metadata": {
        "id": "BNafUPOZRhAF"
      },
      "source": [
        "### Lists\n",
        "\n",
        "A list is a mutable array of data, meaning we can alter it after insantiating it. To create a list, use the square brackets [] and fill it with elements.\n",
        "\n",
        "Key operations:\n",
        "- `'+'` appends lists\n",
        "- `len(y)` to get length of list y\n",
        "- `y[0]` to index into 1st element of y **Python indices start from 0\n",
        "- `y[1:6]` to slice elements 1 through 5 of y"
      ]
    },
    {
      "cell_type": "code",
      "execution_count": null,
      "metadata": {
        "id": "7bvXR2nvRhAF",
        "outputId": "00f88837-9e4f-412c-dd22-41fe1d7f110b"
      },
      "outputs": [
        {
          "data": {
            "text/plain": [
              "['Robots are c', 0, 0, 1]"
            ]
          },
          "execution_count": 7,
          "metadata": {},
          "output_type": "execute_result"
        }
      ],
      "source": [
        "y = [\"Robots are c\"] + [0, 0, 1]\n",
        "y"
      ]
    },
    {
      "cell_type": "code",
      "execution_count": null,
      "metadata": {
        "id": "pk2VG0NtRhAF",
        "outputId": "6708a9db-09ed-4c27-afe7-7521ac4f2ccc"
      },
      "outputs": [
        {
          "data": {
            "text/plain": [
              "4"
            ]
          },
          "execution_count": 8,
          "metadata": {},
          "output_type": "execute_result"
        }
      ],
      "source": [
        "len(y)"
      ]
    },
    {
      "cell_type": "code",
      "execution_count": null,
      "metadata": {
        "id": "6-bjZzBJRhAG",
        "outputId": "387b0696-fd16-4ee9-ea77-d543584aefa5"
      },
      "outputs": [
        {
          "data": {
            "text/plain": [
              "'Robots are c'"
            ]
          },
          "execution_count": 9,
          "metadata": {},
          "output_type": "execute_result"
        }
      ],
      "source": [
        "y[0]"
      ]
    },
    {
      "cell_type": "code",
      "execution_count": null,
      "metadata": {
        "id": "sNNU1zoSRhAG",
        "outputId": "3c5a43f8-332c-4f71-9375-5d2d1ee1ef5a"
      },
      "outputs": [
        {
          "name": "stdout",
          "output_type": "stream",
          "text": [
            "0\n"
          ]
        }
      ],
      "source": [
        "# TODO: slice the first three elements of list 'y' and\n",
        "# store in a new list, then print the 2nd element of this\n",
        "# new list\n",
        "slice = y[:3]\n",
        "print(slice[2])"
      ]
    },
    {
      "cell_type": "markdown",
      "metadata": {
        "id": "xFu_-0o0RhAG"
      },
      "source": [
        "### Loops"
      ]
    },
    {
      "cell_type": "markdown",
      "metadata": {
        "id": "PKQFNF6SRhAG"
      },
      "source": [
        "You can loop over the elements of a list like this:"
      ]
    },
    {
      "cell_type": "code",
      "execution_count": null,
      "metadata": {
        "id": "Bu85Ya9rRhAG",
        "outputId": "2779a472-9f27-4171-b99d-82d257d4e8f7"
      },
      "outputs": [
        {
          "name": "stdout",
          "output_type": "stream",
          "text": [
            "baxter\n",
            "sawyer\n",
            "turtlebot\n"
          ]
        }
      ],
      "source": [
        "robots = ['baxter', 'sawyer', 'turtlebot']\n",
        "for robot in robots:\n",
        "    print(robot)\n",
        "# Prints \"baxter\", \"sawyer\", \"turtlebot\", each on its own line."
      ]
    },
    {
      "cell_type": "markdown",
      "metadata": {
        "id": "Y7Pxv-_GRhAG"
      },
      "source": [
        "If you want access to the index of each element within the body of a loop, use the built-in [`enumerate`](https://docs.python.org/2.7/library/functions.html#enumerate) function:"
      ]
    },
    {
      "cell_type": "code",
      "execution_count": null,
      "metadata": {
        "scrolled": true,
        "id": "edJWhSmZRhAG",
        "outputId": "c2973a84-f97d-4833-a17e-daeed6e18863"
      },
      "outputs": [
        {
          "name": "stdout",
          "output_type": "stream",
          "text": [
            "#1: baxter\n",
            "#2: sawyer\n",
            "#3: turtlebot\n"
          ]
        }
      ],
      "source": [
        "robots = ['baxter', 'sawyer', 'turtlebot']\n",
        "\n",
        "# TODO: Using a for loop and the python built-in enumerate function,\n",
        "# Print \"#1: baxter\", \"#2: sawyer\", \"#3: turtlebot\",\n",
        "# each on its own line\n",
        "for i,e in enumerate(robots):\n",
        "    print(\"#\"+str(i+1)+\": \"+str(e))"
      ]
    },
    {
      "cell_type": "markdown",
      "metadata": {
        "id": "qamYoaO_RhAG"
      },
      "source": [
        "### Numpy Array\n",
        "\n",
        "The numpy array is like a list with multidimensional support and more functions (which can all be found [here](https://docs.scipy.org/doc/numpy/reference/index.html)).\n",
        "\n",
        "NumPy arrays can be manipulated with all sorts of arithmetic operations. You can think of them as more powerful lists. Many of the functions that already work with lists extend to numpy arrays.\n",
        "\n",
        "To use functions in NumPy, we have to import NumPy to our workspace. by declaring `import numpy`, which we have done previously above in this notebook already. We typically rename `numpy` as `np` for ease of use."
      ]
    },
    {
      "cell_type": "markdown",
      "metadata": {
        "id": "bbx3eloXRhAG"
      },
      "source": [
        "### Making a Numpy Array"
      ]
    },
    {
      "cell_type": "code",
      "execution_count": null,
      "metadata": {
        "id": "pfK3bW8LRhAG",
        "outputId": "9113aa82-4a3a-4659-b742-f722331caa7f"
      },
      "outputs": [
        {
          "name": "stdout",
          "output_type": "stream",
          "text": [
            "[[1 2 3]\n",
            " [4 5 6]\n",
            " [7 8 9]]\n"
          ]
        }
      ],
      "source": [
        "x = np.array([[1, 2, 3], [4 , 5, 6], [7, 8, 9]])\n",
        "print(x)\n",
        "# x is a 3x3 matrix here"
      ]
    },
    {
      "cell_type": "markdown",
      "metadata": {
        "id": "Dhha71sLRhAG"
      },
      "source": [
        "### Finding the shape of a Numpy Array"
      ]
    },
    {
      "cell_type": "code",
      "execution_count": null,
      "metadata": {
        "id": "B8OTN5IzRhAG",
        "outputId": "416e8004-2a00-4365-eab9-110cf149dc85"
      },
      "outputs": [
        {
          "data": {
            "text/plain": [
              "(3, 3)"
            ]
          },
          "execution_count": 14,
          "metadata": {},
          "output_type": "execute_result"
        }
      ],
      "source": [
        "x.shape # returns the dimensions of the numpy array"
      ]
    },
    {
      "cell_type": "markdown",
      "metadata": {
        "id": "gkNf4ahNRhAG"
      },
      "source": [
        "### Elementwise operations\n",
        "\n",
        "Arithmetic operations on numpy arrays correspond to elementwise operations."
      ]
    },
    {
      "cell_type": "code",
      "execution_count": null,
      "metadata": {
        "id": "L_0Sz5U2RhAG",
        "outputId": "3ddb1112-a3bf-4a95-83e4-5c3207221a63"
      },
      "outputs": [
        {
          "name": "stdout",
          "output_type": "stream",
          "text": [
            "[[1 2 3]\n",
            " [4 5 6]\n",
            " [7 8 9]]\n",
            "[[ 5 10 15]\n",
            " [20 25 30]\n",
            " [35 40 45]]\n"
          ]
        }
      ],
      "source": [
        "print(x)\n",
        "print\n",
        "print(x * 5) # numpy carries operation on all elements!"
      ]
    },
    {
      "cell_type": "markdown",
      "metadata": {
        "id": "_YlZkAYCRhAH"
      },
      "source": [
        "### Matrix multiplication"
      ]
    },
    {
      "cell_type": "code",
      "execution_count": null,
      "metadata": {
        "id": "lcVzCumURhAH",
        "outputId": "df9a0ac4-973d-4e2d-f890-babb6f5ea1ac"
      },
      "outputs": [
        {
          "name": "stdout",
          "output_type": "stream",
          "text": [
            "[[ 30  36  42]\n",
            " [ 66  81  96]\n",
            " [102 126 150]]\n"
          ]
        }
      ],
      "source": [
        "print(np.dot(x, x))"
      ]
    },
    {
      "cell_type": "markdown",
      "metadata": {
        "id": "vJ054fZMRhAH"
      },
      "source": [
        "### Slicing numpy arrays\n",
        "\n",
        "Numpy uses pass-by-reference semantics so it creates views into the existing array, without implicit copying. This is particularly helpful with very large arrays because copying can be slow. Although be wary that you may be mutating an array when you don't intend to, so make sure to make a copy in these situations."
      ]
    },
    {
      "cell_type": "code",
      "execution_count": null,
      "metadata": {
        "id": "QrZh-ESGRhAH",
        "outputId": "c6a54ff8-89de-4405-8dbf-da4cac3a6fd5"
      },
      "outputs": [
        {
          "name": "stdout",
          "output_type": "stream",
          "text": [
            "[0 1 2 3 4 5]\n"
          ]
        }
      ],
      "source": [
        "orig = np.array([0, 1, 2, 3, 4, 5])\n",
        "print(orig)"
      ]
    },
    {
      "cell_type": "markdown",
      "metadata": {
        "id": "Y9OGwBfNRhAH"
      },
      "source": [
        "Slicing an array is just like slicing a list"
      ]
    },
    {
      "cell_type": "code",
      "execution_count": null,
      "metadata": {
        "id": "Wyumc5wERhAH",
        "outputId": "db8841f9-b98c-4fc7-cff2-ffbad825e5b5"
      },
      "outputs": [
        {
          "name": "stdout",
          "output_type": "stream",
          "text": [
            "[1 2 3]\n"
          ]
        }
      ],
      "source": [
        "sliced = orig[1:4]\n",
        "print(sliced)"
      ]
    },
    {
      "cell_type": "markdown",
      "metadata": {
        "id": "P5KJJztrRhAH"
      },
      "source": [
        "Note, since slicing does not copy the array, mutating `sliced` mutates `orig`. Notice how the 4th element in `orig` changes to 9 as well."
      ]
    },
    {
      "cell_type": "code",
      "execution_count": null,
      "metadata": {
        "id": "eXGxIBKWRhAH",
        "outputId": "3e3ff0d4-ff3a-4fa1-995e-ef4d7c3d5726"
      },
      "outputs": [
        {
          "name": "stdout",
          "output_type": "stream",
          "text": [
            "[0 1 2 9 4 5]\n",
            "[1 2 9]\n"
          ]
        }
      ],
      "source": [
        "sliced[2] = 9\n",
        "print(orig)\n",
        "print(sliced)"
      ]
    },
    {
      "cell_type": "markdown",
      "metadata": {
        "id": "NJe5rSwaRhAH"
      },
      "source": [
        "We should use `np.copy()` to actually copy `orig` if we don't want to mutate it."
      ]
    },
    {
      "cell_type": "code",
      "execution_count": null,
      "metadata": {
        "id": "nV7J0p62RhAH",
        "outputId": "e2f97e93-cb65-4737-f09a-0a1429b78231"
      },
      "outputs": [
        {
          "name": "stdout",
          "output_type": "stream",
          "text": [
            "[0 1 2 3 4 5]\n",
            "[1 2 9]\n"
          ]
        }
      ],
      "source": [
        "orig = np.array([0, 1, 2, 3, 4, 5])\n",
        "copy = np.copy(orig)\n",
        "sliced_copy = copy[1:4]\n",
        "sliced_copy[2] = 9\n",
        "print(orig)\n",
        "print(sliced_copy)"
      ]
    },
    {
      "cell_type": "code",
      "execution_count": null,
      "metadata": {
        "id": "Kq_3d8SZRhAH",
        "outputId": "e8d126de-0e3f-40da-9929-96190aecb134"
      },
      "outputs": [
        {
          "name": "stdout",
          "output_type": "stream",
          "text": [
            "[[42. 39. 14.]\n",
            " [23. 20.  9.]\n",
            " [22. 26. 12.]]\n"
          ]
        }
      ],
      "source": [
        "A = np.array([[5, 6, 8], [2, 4, 5], [3, 1, 10]])\n",
        "B = np.array([[3, 5, 0], [3, 1, 1]])\n",
        "# TODO: multiply matrix A with matrix B padded with 1's to the\n",
        "# same dimensions as A; sum this result with the identiy matrix\n",
        "# (you may find np.concatenate, np.vstack, np.hstack, or np.eye useful).\n",
        "# Make sure you don't alter the original contents of B. Print the result\n",
        "B_new = np.vstack((B,np.ones((1,3))))\n",
        "ans = np.dot(A,B_new)\n",
        "ans = ans + np.eye(3)\n",
        "print(ans)"
      ]
    },
    {
      "cell_type": "markdown",
      "metadata": {
        "id": "kCa4OTVnRhAI"
      },
      "source": [
        "### Handy Numpy function: arange\n",
        "\n",
        "We use `arange` to instantiate integer sequences in numpy arrays. It's similar to the built-in range function in Python for lists. However, it returns the result as a numpy array, rather a simple list.\n",
        "\n",
        "`arange(0,N)` instantiates an array listing every integer from 0 to N-1.\n",
        "\n",
        "`arange(0,N,i)` instantiates an array listing every `i` th integer from 0 to N-1 ."
      ]
    },
    {
      "cell_type": "code",
      "execution_count": null,
      "metadata": {
        "id": "xET3QLh7RhAI"
      },
      "outputs": [],
      "source": [
        "print(np.arange(-3,4)) # every integer from -3 ... 3"
      ]
    },
    {
      "cell_type": "code",
      "execution_count": null,
      "metadata": {
        "id": "6jdI5Pf1RhAI",
        "outputId": "14073032-f149-438e-d768-5a44bb8514e0"
      },
      "outputs": [
        {
          "name": "stdout",
          "output_type": "stream",
          "text": [
            "[ 0  4  8 12]\n"
          ]
        }
      ],
      "source": [
        "# TODO: print every other integer from 0 ... 6 multiplied by 2\n",
        "# as a list\n",
        "ans = np.arange(0,7,2)*2\n",
        "print(ans)"
      ]
    },
    {
      "cell_type": "markdown",
      "metadata": {
        "id": "1XTPci8aRhAI"
      },
      "source": [
        "## Functions"
      ]
    },
    {
      "cell_type": "markdown",
      "metadata": {
        "id": "TI1rXwvuRhAI"
      },
      "source": [
        "Python functions are defined using the `def` keyword. For example:"
      ]
    },
    {
      "cell_type": "code",
      "execution_count": null,
      "metadata": {
        "id": "M3oi8mX3RhAI"
      },
      "outputs": [],
      "source": [
        "def hello_robot(robot_name, yell=True):\n",
        "    if yell:\n",
        "        print('HELLO, %s!' % robot_name.upper())\n",
        "    else:\n",
        "        print('hello, %s' % robot_name)"
      ]
    },
    {
      "cell_type": "code",
      "execution_count": null,
      "metadata": {
        "id": "zIYKmPh3RhAI"
      },
      "outputs": [],
      "source": [
        "hello_robot('Baxter') # Prints \"HELLO, BAXTER!\"\n",
        "hello_robot('Sawyer', yell=False)  # Prints \"hello, Sawyer\""
      ]
    },
    {
      "cell_type": "markdown",
      "metadata": {
        "id": "4AL2qgsSRhAI"
      },
      "source": [
        "# References\n",
        "- [1] EE 120 lab1\n",
        "- [2] EECS 126 Lab01\n",
        "- [3] EE 16a Python Bootcamp\n",
        "- [4] CS 231n Python Numpy Tutorial. [Link](http://cs231n.github.io/python-numpy-tutorial/)"
      ]
    },
    {
      "cell_type": "code",
      "execution_count": null,
      "metadata": {
        "id": "NSA4woD9RhAI"
      },
      "outputs": [],
      "source": []
    }
  ],
  "metadata": {
    "kernelspec": {
      "display_name": "Python 3 (ipykernel)",
      "language": "python",
      "name": "python3"
    },
    "language_info": {
      "codemirror_mode": {
        "name": "ipython",
        "version": 3
      },
      "file_extension": ".py",
      "mimetype": "text/x-python",
      "name": "python",
      "nbconvert_exporter": "python",
      "pygments_lexer": "ipython3",
      "version": "3.10.13"
    },
    "colab": {
      "provenance": [],
      "include_colab_link": true
    }
  },
  "nbformat": 4,
  "nbformat_minor": 0
}
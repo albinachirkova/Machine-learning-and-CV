{
  "cells": [
    {
      "cell_type": "markdown",
      "metadata": {
        "id": "view-in-github",
        "colab_type": "text"
      },
      "source": [
        "<a href=\"https://colab.research.google.com/github/albinachirkova/Machine-learning-and-CV/blob/main/Python_Bootcamp.ipynb\" target=\"_parent\"><img src=\"https://colab.research.google.com/assets/colab-badge.svg\" alt=\"Open In Colab\"/></a>"
      ]
    },
    {
      "cell_type": "markdown",
      "metadata": {
        "id": "uPMEuUDFfXM7"
      },
      "source": [
        "# EECS C106A Python Bootcamp\n",
        "### EECS C106A: Introduction to Robotics, Fall 2023"
      ]
    },
    {
      "cell_type": "markdown",
      "metadata": {
        "id": "3r9Vh4pXfXM9"
      },
      "source": [
        "# Introduction\n",
        "\n",
        "We will be using the Python programming language for lab and homework assignments in EECS/BioE/MechE C106A/206A. Some homework assignments will entail matrix calculations where Python will come in handy, but you are welcome to use something like Matlab instead. This notebook is meant to be a mini bootcamp on Python for students who have had experience programming in another language already (e.g. Matlab) or need a quick refresher on Python. We will be using a few popular libraries (numpy, scipy) that are very useful. If you have experience with Matlab but not Python, we recommend checking out the [numpy for Matlab users guide](https://docs.scipy.org/doc/numpy/user/numpy-for-matlab-users.html)."
      ]
    },
    {
      "cell_type": "markdown",
      "metadata": {
        "id": "_BJjqJ-sfXM9"
      },
      "source": [
        "# Table of Contents\n",
        "* [IPython Basics](#IPython-Basics)\n",
        "* [Python Data Types](#Data-Types)\n",
        "* [Python Functions](#Functions)"
      ]
    },
    {
      "cell_type": "markdown",
      "metadata": {
        "id": "6BDZxMZZfXM-"
      },
      "source": [
        "# IPython Basics\n",
        "\n",
        "For those who have never used IPython, it is a command shell for interactive Python programming. You can imagine it as allowing you to run blocks of Python code that you would execute in a single python script (python [script_name].py) in the terminal. Benefits of using IPython include easier visualization and debugging. The purpose of this bootcamp in IPython is to give you an idea of basic Python syntax and semantics. For labs you are still expected to write and execute actual Python scripts to work with ROS."
      ]
    },
    {
      "cell_type": "markdown",
      "metadata": {
        "id": "Pv8sIWe1fXM-"
      },
      "source": [
        "### Executing Cells\n",
        "\n",
        "ipython notebooks are constituted of cells, that each have text, code, or html scripts. To run a cell, click on the cell and press Shift+Enter or the run button on the toolbar. Run the cell below, you should expect an output of 6:"
      ]
    },
    {
      "cell_type": "code",
      "execution_count": null,
      "metadata": {
        "id": "HNBN2dswfXM-"
      },
      "outputs": [],
      "source": [
        "1+2+3"
      ]
    },
    {
      "cell_type": "markdown",
      "metadata": {
        "id": "V7ZUD2dhfXM_"
      },
      "source": [
        "### Stopping or Restarting Kernel\n",
        "\n",
        "To debug, or terminate a process, you can interupt the kernel by clicking Kernel/interrupt on the toolbar. If interuppting doesn't work, or you would like to restart all the processes in the notebook, click Kernel/restart. Try interrupting the following block:"
      ]
    },
    {
      "cell_type": "code",
      "execution_count": null,
      "metadata": {
        "id": "Uvm9AnpYfXM_"
      },
      "outputs": [],
      "source": [
        "import time\n",
        "\n",
        "while True:\n",
        "    print(\"bug\")\n",
        "    time.sleep(1.5)\n"
      ]
    },
    {
      "cell_type": "markdown",
      "metadata": {
        "id": "o1F73Nz2fXM_"
      },
      "source": [
        "### Import a library\n",
        "\n",
        "To import a certain library `x`, just type `import x`\n",
        "Calling function `y` from that library is simply `x.y`\n",
        "To give the library a different name (e.g. abbreviation), type `import x as z`"
      ]
    },
    {
      "cell_type": "code",
      "execution_count": null,
      "metadata": {
        "id": "yE57MRUvfXM_",
        "outputId": "322fb4b0-5dc1-47a0-d5fe-78310c57fa30"
      },
      "outputs": [
        {
          "data": {
            "text/plain": [
              "7"
            ]
          },
          "execution_count": 1,
          "metadata": {},
          "output_type": "execute_result"
        }
      ],
      "source": [
        "import numpy as np\n",
        "np.add(3, 4)"
      ]
    },
    {
      "cell_type": "markdown",
      "metadata": {
        "id": "BenlQprGfXNA"
      },
      "source": [
        "# Python"
      ]
    },
    {
      "cell_type": "markdown",
      "metadata": {
        "id": "FWOuNLBJfXNA"
      },
      "source": [
        "## Data Types"
      ]
    },
    {
      "cell_type": "markdown",
      "metadata": {
        "id": "k4wpETZnfXNA"
      },
      "source": [
        "### Integers and Floats\n",
        "\n",
        "In Python2, integer division returns the floor. In Python3, there is no floor unless you specify using double slahes. The differences between Python2 and Python3 you can [check out](https://wiki.python.org/moin/Python2orPython3), but we will be using Python2 in this class."
      ]
    },
    {
      "cell_type": "code",
      "execution_count": null,
      "metadata": {
        "id": "LHzJuiC8fXNA",
        "outputId": "d77c7db4-6b94-4339-aa6f-c2477888370a"
      },
      "outputs": [
        {
          "data": {
            "text/plain": [
              "1.25"
            ]
          },
          "execution_count": 2,
          "metadata": {},
          "output_type": "execute_result"
        }
      ],
      "source": [
        "5 / 4"
      ]
    },
    {
      "cell_type": "code",
      "execution_count": null,
      "metadata": {
        "id": "ybXCScEwfXNB",
        "outputId": "c7070d71-b4fd-409a-cb21-f6719a3d69f3"
      },
      "outputs": [
        {
          "data": {
            "text/plain": [
              "1.25"
            ]
          },
          "execution_count": 3,
          "metadata": {},
          "output_type": "execute_result"
        }
      ],
      "source": [
        "5.0 / 4"
      ]
    },
    {
      "cell_type": "markdown",
      "metadata": {
        "id": "9jnzPqC8fXNB"
      },
      "source": [
        "### Booleans\n",
        "\n",
        "Python implements all usual operators for Boolean logic. English, though, is used rather than symbols (no &, ||, etc.). Pay attention to the following syntax, try to guess what the output for each print statement should be before running the cell."
      ]
    },
    {
      "cell_type": "code",
      "execution_count": null,
      "metadata": {
        "id": "beHvVH9GfXNB",
        "outputId": "fbf9236d-fb20-46e5-d349-2589c6552047"
      },
      "outputs": [
        {
          "name": "stdout",
          "output_type": "stream",
          "text": [
            "True\n",
            "True\n",
            "True\n",
            "True\n",
            "False\n"
          ]
        },
        {
          "name": "stderr",
          "output_type": "stream",
          "text": [
            "<>:8: SyntaxWarning: \"is not\" with a literal. Did you mean \"!=\"?\n",
            "<>:8: SyntaxWarning: \"is not\" with a literal. Did you mean \"!=\"?\n",
            "C:\\Users\\abato\\AppData\\Local\\Temp\\ipykernel_31364\\2347410878.py:8: SyntaxWarning: \"is not\" with a literal. Did you mean \"!=\"?\n",
            "  print(t is not 1)\n"
          ]
        }
      ],
      "source": [
        "print(0 == False)\n",
        "\n",
        "t = True\n",
        "print(1 == t)\n",
        "\n",
        "print(0 != t)\n",
        "\n",
        "print(t is not 1)\n",
        "\n",
        "if t is True:\n",
        "    print(0 != 0)"
      ]
    },
    {
      "cell_type": "markdown",
      "metadata": {
        "id": "HXR2YoaGfXNB"
      },
      "source": [
        "### Strings\n",
        "\n",
        "Strings are supported very well. To concatenate strings we can do the following:"
      ]
    },
    {
      "cell_type": "code",
      "execution_count": null,
      "metadata": {
        "id": "RsD65K88fXNC",
        "outputId": "692e5361-189c-47b0-a6f0-58b8556f9241"
      },
      "outputs": [
        {
          "name": "stdout",
          "output_type": "stream",
          "text": [
            "hello robot1\n"
          ]
        }
      ],
      "source": [
        "hello = 'hello'\n",
        "robot = 'robot'\n",
        "\n",
        "print(hello + ' ' + robot + str(1))"
      ]
    },
    {
      "cell_type": "markdown",
      "metadata": {
        "id": "mgT_z3JGfXNC"
      },
      "source": [
        "To find the length of a string use `len(...)`"
      ]
    },
    {
      "cell_type": "code",
      "execution_count": null,
      "metadata": {
        "id": "FqHki3OAfXNC",
        "outputId": "06177352-47ac-45d7-e106-dfb5b55c2d4a"
      },
      "outputs": [
        {
          "name": "stdout",
          "output_type": "stream",
          "text": [
            "10\n"
          ]
        }
      ],
      "source": [
        "print(len(hello + robot))"
      ]
    },
    {
      "cell_type": "markdown",
      "metadata": {
        "id": "NdCeCgzvfXNC"
      },
      "source": [
        "### Lists\n",
        "\n",
        "A list is a mutable array of data, meaning we can alter it after insantiating it. To create a list, use the square brackets [] and fill it with elements.\n",
        "\n",
        "Key operations:\n",
        "- `'+'` appends lists\n",
        "- `len(y)` to get length of list y\n",
        "- `y[0]` to index into 1st element of y **Python indices start from 0\n",
        "- `y[1:6]` to slice elements 1 through 5 of y"
      ]
    },
    {
      "cell_type": "code",
      "execution_count": null,
      "metadata": {
        "id": "MZOh0pgwfXNC",
        "outputId": "a96bbe65-337c-4deb-e1ee-69d5b9a8a3a9",
        "colab": {
          "base_uri": "https://localhost:8080/"
        }
      },
      "outputs": [
        {
          "output_type": "execute_result",
          "data": {
            "text/plain": [
              "['Robots are c', 0, 0, 1]"
            ]
          },
          "metadata": {},
          "execution_count": 1
        }
      ],
      "source": [
        "y = [\"Robots are c\"] + [0, 0, 1]\n",
        "y"
      ]
    },
    {
      "cell_type": "code",
      "execution_count": null,
      "metadata": {
        "id": "H1COE3HmfXND",
        "outputId": "31726564-8841-4bf5-e4eb-763a466d46d7",
        "colab": {
          "base_uri": "https://localhost:8080/"
        }
      },
      "outputs": [
        {
          "output_type": "execute_result",
          "data": {
            "text/plain": [
              "4"
            ]
          },
          "metadata": {},
          "execution_count": 2
        }
      ],
      "source": [
        "len(y)"
      ]
    },
    {
      "cell_type": "code",
      "execution_count": null,
      "metadata": {
        "id": "WrhR-kDVfXND",
        "outputId": "cc79115c-293c-4425-de29-2348431ef6dd",
        "colab": {
          "base_uri": "https://localhost:8080/",
          "height": 35
        }
      },
      "outputs": [
        {
          "output_type": "execute_result",
          "data": {
            "text/plain": [
              "'Robots are c'"
            ],
            "application/vnd.google.colaboratory.intrinsic+json": {
              "type": "string"
            }
          },
          "metadata": {},
          "execution_count": 3
        }
      ],
      "source": [
        "y[0]"
      ]
    },
    {
      "cell_type": "code",
      "execution_count": null,
      "metadata": {
        "id": "x54WZiA0fXND",
        "outputId": "4b2b82fe-be26-4974-8208-ab50a822d333",
        "colab": {
          "base_uri": "https://localhost:8080/"
        }
      },
      "outputs": [
        {
          "output_type": "stream",
          "name": "stdout",
          "text": [
            "0\n"
          ]
        }
      ],
      "source": [
        "# TODO: slice the first three elements of list 'y' and\n",
        "# store in a new list, then print the 2nd element of this\n",
        "# new list\n",
        "slice = y[:3]\n",
        "print(slice[1])"
      ]
    },
    {
      "cell_type": "markdown",
      "metadata": {
        "id": "RMsnaeA-fXND"
      },
      "source": [
        "### Loops"
      ]
    },
    {
      "cell_type": "markdown",
      "metadata": {
        "id": "3eQux4aofXNE"
      },
      "source": [
        "You can loop over the elements of a list like this:"
      ]
    },
    {
      "cell_type": "code",
      "execution_count": null,
      "metadata": {
        "id": "N7B5d_aDfXNE",
        "outputId": "5ba56634-1eaa-49d1-d377-95ebdb1d4a32"
      },
      "outputs": [
        {
          "name": "stdout",
          "output_type": "stream",
          "text": [
            "baxter\n",
            "sawyer\n",
            "turtlebot\n"
          ]
        }
      ],
      "source": [
        "robots = ['baxter', 'sawyer', 'turtlebot']\n",
        "for robot in robots:\n",
        "    print(robot)\n",
        "# Prints \"baxter\", \"sawyer\", \"turtlebot\", each on its own line."
      ]
    },
    {
      "cell_type": "markdown",
      "metadata": {
        "id": "gWj1BBLKfXNE"
      },
      "source": [
        "If you want access to the index of each element within the body of a loop, use the built-in [`enumerate`](https://docs.python.org/2.7/library/functions.html#enumerate) function:"
      ]
    },
    {
      "cell_type": "code",
      "execution_count": null,
      "metadata": {
        "scrolled": true,
        "id": "IG6ThbKOfXNE",
        "outputId": "cfe1eda8-6dd2-44d5-b64b-cfbdc3add77f"
      },
      "outputs": [
        {
          "name": "stdout",
          "output_type": "stream",
          "text": [
            "#1: baxter\n",
            "#2: sawyer\n",
            "#3: turtlebot\n"
          ]
        }
      ],
      "source": [
        "robots = ['baxter', 'sawyer', 'turtlebot']\n",
        "\n",
        "# TODO: Using a for loop and the python built-in enumerate function,\n",
        "# Print \"#1: baxter\", \"#2: sawyer\", \"#3: turtlebot\",\n",
        "# each on its own line\n",
        "for i,e in enumerate(robots):\n",
        "    print(\"#\"+str(i+1)+\": \"+str(e))"
      ]
    },
    {
      "cell_type": "markdown",
      "metadata": {
        "id": "PW33x3HpfXNE"
      },
      "source": [
        "### Numpy Array\n",
        "\n",
        "The numpy array is like a list with multidimensional support and more functions (which can all be found [here](https://docs.scipy.org/doc/numpy/reference/index.html)).\n",
        "\n",
        "NumPy arrays can be manipulated with all sorts of arithmetic operations. You can think of them as more powerful lists. Many of the functions that already work with lists extend to numpy arrays.\n",
        "\n",
        "To use functions in NumPy, we have to import NumPy to our workspace. by declaring `import numpy`, which we have done previously above in this notebook already. We typically rename `numpy` as `np` for ease of use."
      ]
    },
    {
      "cell_type": "markdown",
      "metadata": {
        "id": "pJzdQItefXNE"
      },
      "source": [
        "### Making a Numpy Array"
      ]
    },
    {
      "cell_type": "code",
      "execution_count": null,
      "metadata": {
        "id": "wDF8PhNxfXNE",
        "outputId": "de02b3d2-5f54-44a2-e9c7-92e8868295da"
      },
      "outputs": [
        {
          "name": "stdout",
          "output_type": "stream",
          "text": [
            "[[1 2 3]\n",
            " [4 5 6]\n",
            " [7 8 9]]\n"
          ]
        }
      ],
      "source": [
        "x = np.array([[1, 2, 3], [4 , 5, 6], [7, 8, 9]])\n",
        "print(x)\n",
        "# x is a 3x3 matrix here"
      ]
    },
    {
      "cell_type": "markdown",
      "metadata": {
        "id": "NPKTVfGzfXNE"
      },
      "source": [
        "### Finding the shape of a Numpy Array"
      ]
    },
    {
      "cell_type": "code",
      "execution_count": null,
      "metadata": {
        "id": "tPWqLpoWfXNE",
        "outputId": "f9dc35f0-afd2-489c-e101-9f2253d01f7c"
      },
      "outputs": [
        {
          "data": {
            "text/plain": [
              "(3, 3)"
            ]
          },
          "execution_count": 14,
          "metadata": {},
          "output_type": "execute_result"
        }
      ],
      "source": [
        "x.shape # returns the dimensions of the numpy array"
      ]
    },
    {
      "cell_type": "markdown",
      "metadata": {
        "id": "gZY0fdnSfXNE"
      },
      "source": [
        "### Elementwise operations\n",
        "\n",
        "Arithmetic operations on numpy arrays correspond to elementwise operations."
      ]
    },
    {
      "cell_type": "code",
      "execution_count": null,
      "metadata": {
        "id": "wj2fDly8fXNF",
        "outputId": "46908b81-b651-4d0f-c286-299de175b306"
      },
      "outputs": [
        {
          "name": "stdout",
          "output_type": "stream",
          "text": [
            "[[1 2 3]\n",
            " [4 5 6]\n",
            " [7 8 9]]\n",
            "[[ 5 10 15]\n",
            " [20 25 30]\n",
            " [35 40 45]]\n"
          ]
        }
      ],
      "source": [
        "print(x)\n",
        "print\n",
        "print(x * 5) # numpy carries operation on all elements!"
      ]
    },
    {
      "cell_type": "markdown",
      "metadata": {
        "id": "Y-ogGfStfXNF"
      },
      "source": [
        "### Matrix multiplication"
      ]
    },
    {
      "cell_type": "code",
      "execution_count": null,
      "metadata": {
        "id": "FV1shhXPfXNF",
        "outputId": "7b5c7ec3-b6b4-43bc-8c6b-e2be94ca6444"
      },
      "outputs": [
        {
          "name": "stdout",
          "output_type": "stream",
          "text": [
            "[[ 30  36  42]\n",
            " [ 66  81  96]\n",
            " [102 126 150]]\n"
          ]
        }
      ],
      "source": [
        "print(np.dot(x, x))"
      ]
    },
    {
      "cell_type": "markdown",
      "metadata": {
        "id": "UFwtRPqOfXNF"
      },
      "source": [
        "### Slicing numpy arrays\n",
        "\n",
        "Numpy uses pass-by-reference semantics so it creates views into the existing array, without implicit copying. This is particularly helpful with very large arrays because copying can be slow. Although be wary that you may be mutating an array when you don't intend to, so make sure to make a copy in these situations."
      ]
    },
    {
      "cell_type": "code",
      "execution_count": null,
      "metadata": {
        "id": "QNhMDbrbfXNF",
        "outputId": "6ce07e3b-422d-4534-c550-e26666cec1ea"
      },
      "outputs": [
        {
          "name": "stdout",
          "output_type": "stream",
          "text": [
            "[0 1 2 3 4 5]\n"
          ]
        }
      ],
      "source": [
        "orig = np.array([0, 1, 2, 3, 4, 5])\n",
        "print(orig)"
      ]
    },
    {
      "cell_type": "markdown",
      "metadata": {
        "id": "8ndhbLkFfXNF"
      },
      "source": [
        "Slicing an array is just like slicing a list"
      ]
    },
    {
      "cell_type": "code",
      "execution_count": null,
      "metadata": {
        "id": "uGzCTIFofXNF",
        "outputId": "400036b2-166d-4630-e1e6-b5f4b0125022"
      },
      "outputs": [
        {
          "name": "stdout",
          "output_type": "stream",
          "text": [
            "[1 2 3]\n"
          ]
        }
      ],
      "source": [
        "sliced = orig[1:4]\n",
        "print(sliced)"
      ]
    },
    {
      "cell_type": "markdown",
      "metadata": {
        "id": "IVaum_upfXNF"
      },
      "source": [
        "Note, since slicing does not copy the array, mutating `sliced` mutates `orig`. Notice how the 4th element in `orig` changes to 9 as well."
      ]
    },
    {
      "cell_type": "code",
      "execution_count": null,
      "metadata": {
        "id": "TmwyalEmfXNG",
        "outputId": "f29d6360-c5c1-4347-ddf7-07c7bdef62ad"
      },
      "outputs": [
        {
          "name": "stdout",
          "output_type": "stream",
          "text": [
            "[0 1 2 9 4 5]\n",
            "[1 2 9]\n"
          ]
        }
      ],
      "source": [
        "sliced[2] = 9\n",
        "print(orig)\n",
        "print(sliced)"
      ]
    },
    {
      "cell_type": "markdown",
      "metadata": {
        "id": "RcLvt6S-fXNG"
      },
      "source": [
        "We should use `np.copy()` to actually copy `orig` if we don't want to mutate it."
      ]
    },
    {
      "cell_type": "code",
      "execution_count": null,
      "metadata": {
        "id": "8L2z8oMXfXNG",
        "outputId": "06726479-18f3-4c22-d1bc-795a658dd4f6"
      },
      "outputs": [
        {
          "name": "stdout",
          "output_type": "stream",
          "text": [
            "[0 1 2 3 4 5]\n",
            "[1 2 9]\n"
          ]
        }
      ],
      "source": [
        "orig = np.array([0, 1, 2, 3, 4, 5])\n",
        "copy = np.copy(orig)\n",
        "sliced_copy = copy[1:4]\n",
        "sliced_copy[2] = 9\n",
        "print(orig)\n",
        "print(sliced_copy)"
      ]
    },
    {
      "cell_type": "code",
      "execution_count": null,
      "metadata": {
        "id": "vtwSCvHlfXNG",
        "outputId": "71d86a3e-6f90-455b-a87c-a9c8dbbc3bf0"
      },
      "outputs": [
        {
          "name": "stdout",
          "output_type": "stream",
          "text": [
            "[[42. 39. 14.]\n",
            " [23. 20.  9.]\n",
            " [22. 26. 12.]]\n"
          ]
        }
      ],
      "source": [
        "A = np.array([[5, 6, 8], [2, 4, 5], [3, 1, 10]])\n",
        "B = np.array([[3, 5, 0], [3, 1, 1]])\n",
        "# TODO: multiply matrix A with matrix B padded with 1's to the\n",
        "# same dimensions as A; sum this result with the identiy matrix\n",
        "# (you may find np.concatenate, np.vstack, np.hstack, or np.eye useful).\n",
        "# Make sure you don't alter the original contents of B. Print the result\n",
        "B_new = np.vstack((B,np.ones((1,3))))\n",
        "ans = np.dot(A,B_new)\n",
        "ans = ans + np.eye(3)\n",
        "print(ans)"
      ]
    },
    {
      "cell_type": "markdown",
      "metadata": {
        "id": "WlFkZIlFfXNG"
      },
      "source": [
        "### Handy Numpy function: arange\n",
        "\n",
        "We use `arange` to instantiate integer sequences in numpy arrays. It's similar to the built-in range function in Python for lists. However, it returns the result as a numpy array, rather a simple list.\n",
        "\n",
        "`arange(0,N)` instantiates an array listing every integer from 0 to N-1.\n",
        "\n",
        "`arange(0,N,i)` instantiates an array listing every `i` th integer from 0 to N-1 ."
      ]
    },
    {
      "cell_type": "code",
      "execution_count": null,
      "metadata": {
        "id": "O8_ua5GDfXNG"
      },
      "outputs": [],
      "source": [
        "print(np.arange(-3,4)) # every integer from -3 ... 3"
      ]
    },
    {
      "cell_type": "code",
      "execution_count": null,
      "metadata": {
        "id": "3qd7-f66fXNG",
        "outputId": "8c6090ec-d52c-4656-dbaa-3eafcdd57ffc"
      },
      "outputs": [
        {
          "name": "stdout",
          "output_type": "stream",
          "text": [
            "[ 0  4  8 12]\n"
          ]
        }
      ],
      "source": [
        "# TODO: print every other integer from 0 ... 6 multiplied by 2\n",
        "# as a list\n",
        "ans = np.arange(0,7,2)*2\n",
        "print(ans)"
      ]
    },
    {
      "cell_type": "markdown",
      "metadata": {
        "id": "FyU57MbcfXNG"
      },
      "source": [
        "## Functions"
      ]
    },
    {
      "cell_type": "markdown",
      "metadata": {
        "id": "IMVa8G1JfXNG"
      },
      "source": [
        "Python functions are defined using the `def` keyword. For example:"
      ]
    },
    {
      "cell_type": "code",
      "execution_count": null,
      "metadata": {
        "id": "SpOSDX2kfXNG"
      },
      "outputs": [],
      "source": [
        "def hello_robot(robot_name, yell=True):\n",
        "    if yell:\n",
        "        print('HELLO, %s!' % robot_name.upper())\n",
        "    else:\n",
        "        print('hello, %s' % robot_name)"
      ]
    },
    {
      "cell_type": "code",
      "execution_count": null,
      "metadata": {
        "id": "EF6fGmHTfXNH"
      },
      "outputs": [],
      "source": [
        "hello_robot('Baxter') # Prints \"HELLO, BAXTER!\"\n",
        "hello_robot('Sawyer', yell=False)  # Prints \"hello, Sawyer\""
      ]
    },
    {
      "cell_type": "markdown",
      "metadata": {
        "id": "g8AVkoShfXNH"
      },
      "source": [
        "# References\n",
        "- [1] EE 120 lab1\n",
        "- [2] EECS 126 Lab01\n",
        "- [3] EE 16a Python Bootcamp\n",
        "- [4] CS 231n Python Numpy Tutorial. [Link](http://cs231n.github.io/python-numpy-tutorial/)"
      ]
    },
    {
      "cell_type": "code",
      "execution_count": null,
      "metadata": {
        "id": "-TQexz3yfXNH"
      },
      "outputs": [],
      "source": []
    }
  ],
  "metadata": {
    "kernelspec": {
      "display_name": "Python 3 (ipykernel)",
      "language": "python",
      "name": "python3"
    },
    "language_info": {
      "codemirror_mode": {
        "name": "ipython",
        "version": 3
      },
      "file_extension": ".py",
      "mimetype": "text/x-python",
      "name": "python",
      "nbconvert_exporter": "python",
      "pygments_lexer": "ipython3",
      "version": "3.10.13"
    },
    "colab": {
      "provenance": [],
      "include_colab_link": true
    }
  },
  "nbformat": 4,
  "nbformat_minor": 0
}
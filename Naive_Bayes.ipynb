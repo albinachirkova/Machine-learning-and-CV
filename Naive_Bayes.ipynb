{
  "nbformat": 4,
  "nbformat_minor": 0,
  "metadata": {
    "colab": {
      "provenance": []
    },
    "kernelspec": {
      "name": "python3",
      "display_name": "Python 3"
    },
    "language_info": {
      "name": "python"
    }
  },
  "cells": [
    {
      "cell_type": "markdown",
      "source": [
        "## Naive Bayes Classifier\n",
        "\n",
        "In this work, a Naive Bayes classifier is implemented, with the algorithm written manually. It is also necessary to implement this classifier using the sklearn library and then compare the results.\n",
        "\n",
        "The data vector consists of the data from datasets.load_breast_cancer().\n",
        "\n"
      ],
      "metadata": {
        "id": "JhVdsUtdKqQ_"
      }
    },
    {
      "cell_type": "code",
      "execution_count": null,
      "metadata": {
        "id": "lsCmTeimJg76"
      },
      "outputs": [],
      "source": [
        "import numpy as np\n",
        "import matplotlib.pyplot as plt\n",
        "import scipy.optimize as sci_opt\n",
        "from math import sqrt, exp, pi\n",
        "from scipy.stats import norm\n",
        "from matplotlib.colors import ListedColormap\n",
        "from sklearn.utils import shuffle\n",
        "from sklearn import metrics\n",
        "from sklearn.model_selection import cross_val_score\n",
        "from sklearn.model_selection import cross_val_predict\n",
        "from sklearn.discriminant_analysis import LinearDiscriminantAnalysis\n",
        "from scipy import stats\n",
        "from sklearn.model_selection import train_test_split"
      ]
    },
    {
      "cell_type": "markdown",
      "source": [
        "Loading the dataset and splitting it into train and test sets."
      ],
      "metadata": {
        "id": "d9PjCrpDMFhF"
      }
    },
    {
      "cell_type": "code",
      "source": [
        "from sklearn import datasets\n",
        "data = datasets.load_breast_cancer()\n",
        "x_train, x_test, y_train, y_test = train_test_split(data['data'], data['target'],  random_state = 42, test_size = 0.2)"
      ],
      "metadata": {
        "id": "ss3pb8oDJhrc"
      },
      "execution_count": null,
      "outputs": []
    },
    {
      "cell_type": "markdown",
      "source": [
        "Calculation of the mean values and standard deviations within each class in the training set"
      ],
      "metadata": {
        "id": "s_Av1Pn5MIw0"
      }
    },
    {
      "cell_type": "code",
      "source": [
        "mean_0 = np.mean(x_train[y_train == 0],axis=0)\n",
        "mean_1= np.mean(x_train[y_train == 1],axis=0)\n",
        "\n",
        "std_0= np.std(x_train[y_train == 0],axis=0)\n",
        "std_1 = np.std(x_train[y_train == 1],axis=0)\n",
        "\n",
        "print('mean values 0 class: ', mean_0)\n",
        "print('mean values 1 class: ' ,mean_1)\n",
        "print('std values 0 class: ', std_0)\n",
        "print('std values 1 class: ', std_1)"
      ],
      "metadata": {
        "colab": {
          "base_uri": "https://localhost:8080/"
        },
        "id": "AJQIDaBrJnQQ",
        "outputId": "5d407b9f-479b-4882-8da1-5042d3a760a9"
      },
      "execution_count": null,
      "outputs": [
        {
          "output_type": "stream",
          "name": "stdout",
          "text": [
            "mean values 0 class:  [1.74169231e+01 2.14923077e+01 1.15012959e+02 9.75013609e+02\n",
            " 1.02531124e-01 1.43885148e-01 1.59455266e-01 8.67635503e-02\n",
            " 1.93533136e-01 6.26227219e-02 6.00757988e-01 1.20041598e+00\n",
            " 4.28259763e+00 7.18094675e+01 6.75819527e-03 3.17857870e-02\n",
            " 4.18483432e-02 1.50038935e-02 2.06236627e-02 3.97157988e-03\n",
            " 2.10274556e+01 2.92200592e+01 1.40713964e+02 1.41022781e+03\n",
            " 1.44440769e-01 3.71363373e-01 4.51448994e-01 1.81149467e-01\n",
            " 3.26636095e-01 9.11269822e-02]\n",
            "mean values 1 class:  [1.21680559e+01 1.78216434e+01 7.82140909e+01 4.64910839e+02\n",
            " 9.17334615e-02 7.98258741e-02 4.72053007e-02 2.55395140e-02\n",
            " 1.73751049e-01 6.28359790e-02 2.84577273e-01 1.20402867e+00\n",
            " 2.01659545e+00 2.13169266e+01 7.12550350e-03 2.20011573e-02\n",
            " 2.74909122e-02 1.00562413e-02 2.05438776e-02 3.73115490e-03\n",
            " 1.34032587e+01 2.33585664e+01 8.72421678e+01 5.61890210e+02\n",
            " 1.23904301e-01 1.82647238e-01 1.70089682e-01 7.46106678e-02\n",
            " 2.69150350e-01 7.95783566e-02]\n",
            "std values 0 class:  [3.27760249e+00 3.85123633e+00 2.22683484e+01 3.78256518e+02\n",
            " 1.26495338e-02 5.23755097e-02 7.37057149e-02 3.35514771e-02\n",
            " 2.74118441e-02 7.59998706e-03 3.62846423e-01 4.70404802e-01\n",
            " 2.70147051e+00 6.52302149e+01 3.02026077e-03 1.87337544e-02\n",
            " 2.17974559e-02 5.71555137e-03 9.86677894e-03 1.95687498e-03\n",
            " 4.32717791e+00 5.25287135e+00 2.95456366e+01 6.04703594e+02\n",
            " 2.19390107e-02 1.64897362e-01 1.76988709e-01 4.68335616e-02\n",
            " 7.66323139e-02 2.05576918e-02]\n",
            "std values 1 class:  [1.80687219e+00 3.88845392e+00 1.19607384e+01 1.37098676e+02\n",
            " 1.30331749e-02 3.50031538e-02 4.62015909e-02 1.55579148e-02\n",
            " 2.46983164e-02 6.95456264e-03 1.11128093e-01 5.78902736e-01\n",
            " 7.68264531e-01 8.98236756e+00 3.06476627e-03 1.75110936e-02\n",
            " 3.58191626e-02 5.87288415e-03 6.96271062e-03 3.16968838e-03\n",
            " 2.02259501e+00 5.41552092e+00 1.37962553e+01 1.67819835e+02\n",
            " 2.01174420e-02 9.40699264e-02 1.47277019e-01 3.55286287e-02\n",
            " 4.04125948e-02 1.43666079e-02]\n"
          ]
        }
      ]
    },
    {
      "cell_type": "markdown",
      "source": [
        "Calculation of prior probabilities for each class using the formula"
      ],
      "metadata": {
        "id": "TFiiV_WmQVYT"
      }
    },
    {
      "cell_type": "code",
      "source": [
        "p0 = x_train[y_train == 0].shape[0]/x_train.shape[0]\n",
        "p1 = x_train[y_train == 1].shape[0]/x_train.shape[0]\n",
        "print('p(w): ', p0 ,p1 )"
      ],
      "metadata": {
        "colab": {
          "base_uri": "https://localhost:8080/"
        },
        "id": "kqkHcs__JpqA",
        "outputId": "37409a53-c279-438e-8bab-c8878f49e773"
      },
      "execution_count": null,
      "outputs": [
        {
          "output_type": "stream",
          "name": "stdout",
          "text": [
            "p(w):  0.37142857142857144 0.6285714285714286\n"
          ]
        }
      ]
    },
    {
      "cell_type": "markdown",
      "source": [
        "Calculation of discriminant functions for each class and posterior probability. The class selection is based on the values of the posterior probabilities for each class. The sample is assigned to the class with the highest probability."
      ],
      "metadata": {
        "id": "rpgpC9jYQ4M2"
      }
    },
    {
      "cell_type": "code",
      "source": [
        "def g_0(x):\n",
        "    f = 1\n",
        "    n = 0\n",
        "    for i in range (0,29):\n",
        "        f = f * (1/(((2*np.pi)**((i+1)/2))*std_0[i]))\n",
        "        n = n + (-(x[i] - mean_0[i])**2/(2*std_0[i]**2))\n",
        "    g = np.log(f) + n\n",
        "    return g\n",
        "\n",
        "def g_1(x):\n",
        "    f = 1\n",
        "    n = 0\n",
        "    for i in range (0,29):\n",
        "        f = f * (1/(((2*np.pi)**((i+1)/2))*std_1[i]))\n",
        "        n = n + (-(x[i] - mean_1[i])**2/(2*std_1[i]**2))\n",
        "    g = np.log(f) + n\n",
        "    return g\n",
        "\n",
        "pw0 = np.log(p0) + g_0(x_test[8])\n",
        "pw1 = np.log(p1) + g_1(x_test[8])\n",
        "\n",
        "print('pw1',(np.exp(pw0)),'pw2',(np.exp(pw1)))\n",
        "print('class', np.argmax([(pw0), (pw1)]))"
      ],
      "metadata": {
        "id": "Hy_Sfpp-Js4O",
        "colab": {
          "base_uri": "https://localhost:8080/"
        },
        "outputId": "770cb89f-b821-4615-b8ea-0b475f95e9e5"
      },
      "execution_count": null,
      "outputs": [
        {
          "output_type": "stream",
          "name": "stdout",
          "text": [
            "pw1 5.180086222153325e-163 pw2 1.2554555372900062e-164\n",
            "class 0\n"
          ]
        }
      ]
    },
    {
      "cell_type": "code",
      "source": [
        "for i in range (0, 113):\n",
        "    pw0 = np.log(p0) + g_0(x_test[i])\n",
        "    pw1 = np.log(p1) + g_1(x_test[i])\n",
        "    print('pw0',(np.exp(pw0)),'pw1',(np.exp(pw1)), 'class', np.argmax([(np.exp(pw0)), (np.exp(pw1))]))"
      ],
      "metadata": {
        "colab": {
          "base_uri": "https://localhost:8080/"
        },
        "id": "SRKO4oGNJ2IW",
        "outputId": "ce504fbc-5dc4-446a-d252-956bbc5469f6"
      },
      "execution_count": null,
      "outputs": [
        {
          "output_type": "stream",
          "name": "stdout",
          "text": [
            "pw0 2.5935015568176884e-164 pw1 1.539430397449639e-155 class 1\n",
            "pw0 1.398582845444609e-162 pw1 3.208181692239148e-222 class 0\n",
            "pw0 7.40897382184525e-161 pw1 2.5299909636142272e-172 class 0\n",
            "pw0 5.929708408670245e-167 pw1 6.754158130103657e-156 class 1\n",
            "pw0 4.676644161450302e-170 pw1 3.628614994297725e-156 class 1\n",
            "pw0 3.605777636549255e-173 pw1 1.1378606070528753e-288 class 0\n",
            "pw0 3.998651553271707e-165 pw1 2.8327973055718426e-305 class 0\n",
            "pw0 1.2937840636954895e-161 pw1 6.437450335327747e-182 class 0\n",
            "pw0 5.180086222153325e-163 pw1 1.2554555372900062e-164 class 0\n",
            "pw0 1.706019554300129e-172 pw1 3.611057339283581e-158 class 1\n",
            "pw0 4.150911985395625e-170 pw1 4.7721245418238e-157 class 1\n",
            "pw0 1.9651608946681836e-161 pw1 5.267944420277194e-179 class 0\n",
            "pw0 1.3984249932150314e-170 pw1 1.2702221092183147e-158 class 1\n",
            "pw0 1.0923510662667662e-162 pw1 6.40577953593217e-175 class 0\n",
            "pw0 1.4632001161762836e-171 pw1 1.757815264916339e-157 class 1\n",
            "pw0 1.7329939444359084e-168 pw1 1.8621599753538985e-215 class 0\n",
            "pw0 3.59872748289548e-170 pw1 1.0638348497179144e-157 class 1\n",
            "pw0 2.5928550249302567e-176 pw1 1.018430469426795e-158 class 1\n",
            "pw0 5.685435534354625e-184 pw1 1.820736149344337e-169 class 1\n",
            "pw0 3.295616356094226e-161 pw1 4.8073451718467855e-234 class 0\n",
            "pw0 2.2686875239583413e-164 pw1 2.4185849285665195e-159 class 1\n",
            "pw0 7.943142877992541e-168 pw1 1.3931649688392186e-154 class 1\n",
            "pw0 1.5295644169126101e-164 pw1 5.668717490758321e-264 class 0\n",
            "pw0 3.524815373415723e-177 pw1 2.2060856000907225e-159 class 1\n",
            "pw0 4.1738274819598096e-173 pw1 9.292593751926772e-158 class 1\n",
            "pw0 2.4850088895512526e-172 pw1 8.507009907160743e-163 class 1\n",
            "pw0 5.0841916738500136e-169 pw1 4.2428032693824814e-156 class 1\n",
            "pw0 5.037862216397295e-172 pw1 4.124369552558731e-160 class 1\n",
            "pw0 8.266560627309933e-168 pw1 4.398147916717854e-154 class 1\n",
            "pw0 6.96858102596244e-162 pw1 1.3337866389733898e-210 class 0\n",
            "pw0 2.676602874183033e-169 pw1 4.896610041359549e-156 class 1\n",
            "pw0 7.036089236339626e-173 pw1 7.669931865896642e-156 class 1\n",
            "pw0 1.2510606303755708e-174 pw1 1.217749390647379e-167 class 1\n",
            "pw0 6.371096483867134e-170 pw1 6.30705258226981e-157 class 1\n",
            "pw0 4.073904346191438e-172 pw1 1.0977828510072515e-156 class 1\n",
            "pw0 1.2053834388612895e-170 pw1 1.1036215346819963e-155 class 1\n",
            "pw0 6.236991844595876e-166 pw1 2.2779335402654405e-166 class 0\n",
            "pw0 4.9356959744344115e-172 pw1 9.219335723570594e-160 class 1\n",
            "pw0 6.263384125809296e-161 pw1 2.694108677124006e-191 class 0\n",
            "pw0 9.6949073370806e-167 pw1 1.1088814734811644e-157 class 1\n",
            "pw0 1.105297043126163e-171 pw1 1.5584740041900619e-156 class 1\n",
            "pw0 1.2947764911619853e-161 pw1 5.678484897370534e-176 class 0\n",
            "pw0 3.007927410706077e-167 pw1 9.244635745234575e-156 class 1\n",
            "pw0 7.195643286796929e-170 pw1 1.8540936703502457e-154 class 1\n",
            "pw0 9.900249796237291e-172 pw1 1.2392322276410161e-166 class 1\n",
            "pw0 4.271881366556852e-169 pw1 2.6616672812140336e-156 class 1\n",
            "pw0 9.499076154570015e-178 pw1 2.477116483685202e-168 class 1\n",
            "pw0 5.719646744263015e-183 pw1 2.523917334223971e-167 class 1\n",
            "pw0 1.605985162469822e-167 pw1 3.726775748716076e-156 class 1\n",
            "pw0 8.84537089678077e-169 pw1 1.9382931562837492e-157 class 1\n",
            "pw0 1.6861721781838685e-161 pw1 1.5802236267397452e-181 class 0\n",
            "pw0 4.85280195228507e-161 pw1 3.786793535911792e-237 class 0\n",
            "pw0 2.5579446708374405e-164 pw1 3.2585708613209266e-162 class 1\n",
            "pw0 1.9460451579647043e-170 pw1 2.4765301671691003e-167 class 1\n",
            "pw0 1.7496630675138623e-172 pw1 1.5564413059375422e-159 class 1\n",
            "pw0 2.6624053741037535e-169 pw1 1.667752400621775e-156 class 1\n",
            "pw0 4.072532252117077e-170 pw1 7.256708560956922e-158 class 1\n",
            "pw0 1.8724308961097812e-174 pw1 0.0 class 0\n",
            "pw0 5.181715710776719e-163 pw1 1.7915988972293706e-164 class 0\n",
            "pw0 7.354304994390194e-172 pw1 7.261719462774483e-156 class 1\n",
            "pw0 6.275294328401187e-167 pw1 4.92834520652009e-154 class 1\n",
            "pw0 5.675951620322543e-161 pw1 7.587189155923825e-232 class 0\n",
            "pw0 3.010141738670856e-165 pw1 4.89396973735507e-309 class 0\n",
            "pw0 1.0314767742292318e-170 pw1 4.719771832546804e-159 class 1\n",
            "pw0 5.2428672350682854e-173 pw1 3.2267330331929273e-156 class 1\n",
            "pw0 1.0637874623126167e-166 pw1 5.87680387303396e-157 class 1\n",
            "pw0 3.4528753557216625e-162 pw1 8.522760129454171e-194 class 0\n",
            "pw0 8.971168467122249e-188 pw1 0.0 class 0\n",
            "pw0 3.428266158316966e-172 pw1 8.566916214746627e-157 class 1\n",
            "pw0 4.520486708386709e-165 pw1 6.789876930199127e-157 class 1\n",
            "pw0 4.552617164191352e-164 pw1 2.9113542090888305e-174 class 0\n",
            "pw0 2.4701653984150308e-160 pw1 4.3618722482176977e-181 class 0\n",
            "pw0 8.503810165570619e-170 pw1 1.4434718695094756e-156 class 1\n",
            "pw0 3.0035791225578685e-160 pw1 2.2205574341765255e-176 class 0\n",
            "pw0 2.4229422875140528e-182 pw1 8.539290241576832e-167 class 1\n",
            "pw0 8.198750245639973e-167 pw1 3.41329242357049e-158 class 1\n",
            "pw0 2.2421166887056935e-168 pw1 1.7007887336627724e-156 class 1\n",
            "pw0 2.2402828259165524e-162 pw1 1.0451424191770688e-160 class 1\n",
            "pw0 1.5607040141774293e-175 pw1 1.0426137945342255e-156 class 1\n",
            "pw0 7.598296518188673e-168 pw1 4.796048149717452e-159 class 1\n",
            "pw0 4.459761868837371e-161 pw1 2.318431257415613e-171 class 0\n",
            "pw0 4.0840232246479304e-176 pw1 5.5456018383063516e-157 class 1\n",
            "pw0 3.1709664087018885e-163 pw1 4.535757147340727e-162 class 1\n",
            "pw0 1.308538788943712e-164 pw1 3.107526893155803e-283 class 0\n",
            "pw0 4.542744444302356e-164 pw1 2.125830999565612e-176 class 0\n",
            "pw0 1.6611597333785054e-166 pw1 2.678592221374663e-198 class 0\n",
            "pw0 1.2384552386617139e-177 pw1 5.2918449524432154e-211 class 0\n",
            "pw0 6.059991987762946e-166 pw1 1.499029028070624e-227 class 0\n",
            "pw0 6.245324695042459e-171 pw1 6.094841693129316e-160 class 1\n",
            "pw0 6.398846600459811e-168 pw1 2.8830960190840596e-156 class 1\n",
            "pw0 3.7463294322473926e-168 pw1 3.2577887827740907e-155 class 1\n",
            "pw0 1.7645951320844354e-165 pw1 4.2776519558814707e-159 class 1\n",
            "pw0 4.425662175594233e-165 pw1 3.942640994240758e-161 class 1\n",
            "pw0 2.6416077552822704e-190 pw1 1.410077653769072e-170 class 1\n",
            "pw0 1.188927418525437e-175 pw1 2.899361967908915e-160 class 1\n",
            "pw0 4.756012717287766e-173 pw1 1.1532117293257176e-158 class 1\n",
            "pw0 4.197698267595912e-164 pw1 6.036571728576974e-227 class 0\n",
            "pw0 2.218753426623578e-167 pw1 1.6613522561547049e-195 class 0\n",
            "pw0 4.785482656902778e-174 pw1 2.590682888259689e-156 class 1\n",
            "pw0 5.746524007965979e-162 pw1 3.9214784450761054e-183 class 0\n",
            "pw0 6.148069504148293e-162 pw1 1.7972295791405827e-170 class 0\n",
            "pw0 1.5594247931465214e-181 pw1 7.351704213415185e-162 class 1\n",
            "pw0 9.820651583609134e-164 pw1 2.8786915912254024e-252 class 0\n",
            "pw0 9.171616158794739e-160 pw1 6.078589021430636e-185 class 0\n",
            "pw0 3.3639055316223723e-172 pw1 4.688114969733276e-159 class 1\n",
            "pw0 3.359808028873598e-167 pw1 2.792021286646699e-156 class 1\n",
            "pw0 2.207697388415467e-167 pw1 1.4096620806076003e-155 class 1\n",
            "pw0 5.749633681916058e-169 pw1 0.0 class 0\n",
            "pw0 1.0314306307372778e-163 pw1 3.3363737833453865e-159 class 1\n",
            "pw0 2.723408745918634e-168 pw1 2.7358468156191036e-158 class 1\n",
            "pw0 6.535740758484567e-162 pw1 3.7309432771575016e-185 class 0\n",
            "pw0 1.0012731794256988e-168 pw1 1.9179207973361962e-154 class 1\n",
            "pw0 1.0746377613162355e-168 pw1 5.0931935401077376e-163 class 1\n"
          ]
        }
      ]
    },
    {
      "cell_type": "markdown",
      "source": [
        "Performing classification using the built-in function in the library"
      ],
      "metadata": {
        "id": "DzUADmRRRlfb"
      }
    },
    {
      "cell_type": "code",
      "source": [
        "from sklearn.naive_bayes import GaussianNB\n",
        "clf = GaussianNB()\n",
        "clf.fit(x_train, y_train)\n",
        "GaussianNB()\n",
        "print('Accuracy of the NB Classificator',clf.score(x_test, y_test))"
      ],
      "metadata": {
        "colab": {
          "base_uri": "https://localhost:8080/"
        },
        "id": "OCEyqX4gJ4Hs",
        "outputId": "c9c728ba-7cfe-431e-ff66-b6ec3bc33b80"
      },
      "execution_count": null,
      "outputs": [
        {
          "output_type": "stream",
          "name": "stdout",
          "text": [
            "Accuracy of the NB Classificator 0.9736842105263158\n"
          ]
        }
      ]
    },
    {
      "cell_type": "markdown",
      "source": [
        "The difference between the manually written classifier and the one taken from the library"
      ],
      "metadata": {
        "id": "lPozdEoQSLIm"
      }
    },
    {
      "cell_type": "code",
      "source": [
        "c = [] # Array of classes that were performed by manually\n",
        "for i in range (0, 113):\n",
        "    pw0 = np.log(p0) + g_0(x_test[i])\n",
        "    pw1 = np.log(p1) + g_1(x_test[i])\n",
        "    clas= np.argmax([(np.exp(pw0)), (np.exp(pw1))])\n",
        "    c.append(clas)\n",
        "\n",
        "cc = []# Array of classes that were performed by function from the library\n",
        "for i in range(0,113):\n",
        "    c1 = clf.predict([x_test[i]])\n",
        "    cc.append(c1)\n",
        "\n",
        "k = 0 # Counter of the difference\n",
        "for i in range(0,113):\n",
        "    if ((cc[i]-c[i]) == 1):\n",
        "        k = k +1\n",
        "k"
      ],
      "metadata": {
        "colab": {
          "base_uri": "https://localhost:8080/"
        },
        "id": "hMofkhI5KKLy",
        "outputId": "cd802329-64d4-4b6d-9f33-e9e80d8ff9f8"
      },
      "execution_count": null,
      "outputs": [
        {
          "output_type": "execute_result",
          "data": {
            "text/plain": [
              "1"
            ]
          },
          "metadata": {},
          "execution_count": 28
        }
      ]
    },
    {
      "cell_type": "code",
      "source": [
        "def plot_confusion_matrix(y_true, y_pred, classes, cmap=plt.cm.Blues):\n",
        "    \"\"\"\n",
        "    This function prints and plots the confusion matrix.\n",
        "    \"\"\"\n",
        "\n",
        "    # Compute confusion matrix\n",
        "    cm = metrics.confusion_matrix(y_true, y_pred)\n",
        "    print(cm)\n",
        "\n",
        "    fig, ax = plt.subplots()\n",
        "    im = ax.imshow(cm, interpolation='nearest', cmap=cmap)\n",
        "    ax.figure.colorbar(im, ax=ax)\n",
        "    # We want to show all ticks...\n",
        "    ax.set(xticks=np.arange(cm.shape[1]),\n",
        "           yticks=np.arange(cm.shape[0]),\n",
        "           # ... and label them with the respective list entries\n",
        "           xticklabels=classes, yticklabels=classes,\n",
        "           ylabel='True label',\n",
        "           xlabel='Predicted label')\n",
        "\n",
        "    # Rotate the tick labels and set their alignment.\n",
        "    plt.setp(ax.get_xticklabels(), rotation=45, ha=\"right\",\n",
        "             rotation_mode=\"anchor\")\n",
        "\n",
        "    # Loop over data dimensions and create text annotations.\n",
        "    fmt = '.2f'\n",
        "    thresh = cm.max() / 2.\n",
        "    for i in range(cm.shape[0]):\n",
        "        for j in range(cm.shape[1]):\n",
        "            ax.text(j, i, format(cm[i, j], fmt),\n",
        "                    ha=\"center\", va=\"center\",\n",
        "                    color=\"white\" if cm[i, j] > thresh else \"black\")\n",
        "    fig.tight_layout()\n",
        "    return ax, cm"
      ],
      "metadata": {
        "id": "01LnguqwKhHP"
      },
      "execution_count": null,
      "outputs": []
    },
    {
      "cell_type": "markdown",
      "source": [
        "Confusion matrix of classifier taken from the library"
      ],
      "metadata": {
        "id": "d5iLGMnmTAq3"
      }
    },
    {
      "cell_type": "code",
      "source": [
        "clf = GaussianNB()\n",
        "clf.fit(x_train, y_train)\n",
        "expected = y_test\n",
        "predicted = clf.predict(x_test)\n",
        "print(\"Naive Bayes\")\n",
        "print(metrics.classification_report(expected, predicted))\n",
        "plot_confusion_matrix(expected, predicted, classes=np.array([\"Class 1\", \"Class 2\"]))"
      ],
      "metadata": {
        "colab": {
          "base_uri": "https://localhost:8080/",
          "height": 741
        },
        "id": "-Caj-1N6KTzL",
        "outputId": "ac367eee-1740-48d0-ba48-cf0362b42bfd"
      },
      "execution_count": null,
      "outputs": [
        {
          "output_type": "stream",
          "name": "stdout",
          "text": [
            "Naive Bayes\n",
            "              precision    recall  f1-score   support\n",
            "\n",
            "           0       1.00      0.93      0.96        43\n",
            "           1       0.96      1.00      0.98        71\n",
            "\n",
            "    accuracy                           0.97       114\n",
            "   macro avg       0.98      0.97      0.97       114\n",
            "weighted avg       0.97      0.97      0.97       114\n",
            "\n",
            "[[40  3]\n",
            " [ 0 71]]\n"
          ]
        },
        {
          "output_type": "execute_result",
          "data": {
            "text/plain": [
              "(<Axes: xlabel='Predicted label', ylabel='True label'>,\n",
              " array([[40,  3],\n",
              "        [ 0, 71]]))"
            ]
          },
          "metadata": {},
          "execution_count": 30
        },
        {
          "output_type": "display_data",
          "data": {
            "text/plain": [
              "<Figure size 640x480 with 2 Axes>"
            ],
            "image/png": "[encoded data removed]"
          },
          "metadata": {}
        }
      ]
    },
    {
      "cell_type": "markdown",
      "source": [
        "Confusion matrix of the manually written classifier"
      ],
      "metadata": {
        "id": "4qo6-wOnTNM3"
      }
    },
    {
      "cell_type": "code",
      "source": [
        "expected = y_test\n",
        "predicted = np.zeros(114)\n",
        "\n",
        "for i in range (0, 113):\n",
        "    pw0 = np.log(p0) + g_0(x_test[i])\n",
        "    pw1 = np.log(p1) + g_1(x_test[i])\n",
        "\n",
        "    if ((np.exp(pw0)) > np.exp(pw1)) :\n",
        "        predicted [i] = 0\n",
        "\n",
        "    if ((np.exp(pw0)) < np.exp(pw1)) :\n",
        "        predicted [i] = 1\n",
        "\n",
        "\n",
        "\n",
        "print(\"Наивный Байес руками\")\n",
        "print(metrics.classification_report(expected, predicted))\n",
        "plot_confusion_matrix(expected, predicted, classes=np.array([\"Class 1\", \"Class 2\"]))"
      ],
      "metadata": {
        "colab": {
          "base_uri": "https://localhost:8080/",
          "height": 742
        },
        "id": "wyZMCD6eKlJt",
        "outputId": "6fcb685e-5e06-447b-aab8-645bcde45e88"
      },
      "execution_count": null,
      "outputs": [
        {
          "output_type": "stream",
          "name": "stdout",
          "text": [
            "Наивный Байес руками\n",
            "              precision    recall  f1-score   support\n",
            "\n",
            "           0       0.98      0.93      0.95        43\n",
            "           1       0.96      0.99      0.97        71\n",
            "\n",
            "    accuracy                           0.96       114\n",
            "   macro avg       0.97      0.96      0.96       114\n",
            "weighted avg       0.97      0.96      0.96       114\n",
            "\n",
            "[[40  3]\n",
            " [ 1 70]]\n"
          ]
        },
        {
          "output_type": "execute_result",
          "data": {
            "text/plain": [
              "(<Axes: xlabel='Predicted label', ylabel='True label'>,\n",
              " array([[40,  3],\n",
              "        [ 1, 70]]))"
            ]
          },
          "metadata": {},
          "execution_count": 31
        },
        {
          "output_type": "display_data",
          "data": {
            "text/plain": [
              "<Figure size 640x480 with 2 Axes>"
            ],
            "image/png": "[encoded data removed]"
          },
          "metadata": {}
        }
      ]
    }
  ]
}